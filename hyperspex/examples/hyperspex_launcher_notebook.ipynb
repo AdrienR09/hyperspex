{
 "cells": [
  {
   "cell_type": "code",
   "execution_count": 1,
   "metadata": {},
   "outputs": [],
   "source": [
    "import os\n",
    "import sys\n",
    "from os import walk\n",
    "sys.path.insert(1, '/Users/adrien/Documents/hyperspex')\n",
    "from hyperspex.main import Hyperspex, load_spim"
   ]
  },
  {
   "cell_type": "code",
   "execution_count": 2,
   "metadata": {},
   "outputs": [
    {
     "ename": "SystemExit",
     "evalue": "0",
     "output_type": "error",
     "traceback": [
      "An exception has occurred, use %tb to see the full traceback.\n",
      "\u001b[0;31mSystemExit\u001b[0m\u001b[0;31m:\u001b[0m 0\n"
     ]
    },
    {
     "name": "stderr",
     "output_type": "stream",
     "text": [
      "/opt/anaconda3/lib/python3.8/site-packages/IPython/core/interactiveshell.py:3426: UserWarning: To exit: use 'exit', 'quit', or Ctrl-D.\n",
      "  warn(\"To exit: use 'exit', 'quit', or Ctrl-D.\", stacklevel=1)\n"
     ]
    }
   ],
   "source": [
    "dirpath = \"/Users/adrien/Documents/Samples/POSTECH/3.1/Experimental data/spim/10_11_2020/20201112-1120-06_sample_3_1_007K_1962ang_194uW_100um_1200rpm_220nm_60x20s_12um.npz\"\n",
    "#filepath = np.array([ dirpath+filename for t in walk(dirpath) for filename in t[2] if filename[-3:] == 'npz'])\n",
    "spim_dict = load_spim(dirpath)\n",
    "app = Hyperspex(spim_dict[\"spim\"], spim_dict[\"x\"], spim_dict[\"y\"], spim_dict[\"wavelength\"])"
   ]
  }
 ],
 "metadata": {
  "kernelspec": {
   "display_name": "Python 3",
   "language": "python",
   "name": "python3"
  },
  "language_info": {
   "codemirror_mode": {
    "name": "ipython",
    "version": 3
   },
   "file_extension": ".py",
   "mimetype": "text/x-python",
   "name": "python",
   "nbconvert_exporter": "python",
   "pygments_lexer": "ipython3",
   "version": "3.8.5"
  }
 },
 "nbformat": 4,
 "nbformat_minor": 4
}
